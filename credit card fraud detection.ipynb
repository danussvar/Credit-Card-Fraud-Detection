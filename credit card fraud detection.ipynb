{
 "cells": [
  {
   "cell_type": "code",
   "execution_count": 37,
   "metadata": {},
   "outputs": [],
   "source": [
    "#importing modules\n",
    "import numpy as np\n",
    "import pandas as pd\n",
    "import matplotlib.pyplot as plt\n",
    "import seaborn as sns\n",
    "sns.set()"
   ]
  },
  {
   "cell_type": "code",
   "execution_count": 38,
   "metadata": {},
   "outputs": [
    {
     "data": {
      "text/html": [
       "<div>\n",
       "<style scoped>\n",
       "    .dataframe tbody tr th:only-of-type {\n",
       "        vertical-align: middle;\n",
       "    }\n",
       "\n",
       "    .dataframe tbody tr th {\n",
       "        vertical-align: top;\n",
       "    }\n",
       "\n",
       "    .dataframe thead th {\n",
       "        text-align: right;\n",
       "    }\n",
       "</style>\n",
       "<table border=\"1\" class=\"dataframe\">\n",
       "  <thead>\n",
       "    <tr style=\"text-align: right;\">\n",
       "      <th></th>\n",
       "      <th>Time</th>\n",
       "      <th>V1</th>\n",
       "      <th>V2</th>\n",
       "      <th>V3</th>\n",
       "      <th>V4</th>\n",
       "      <th>V5</th>\n",
       "      <th>V6</th>\n",
       "      <th>V7</th>\n",
       "      <th>V8</th>\n",
       "      <th>V9</th>\n",
       "      <th>...</th>\n",
       "      <th>V21</th>\n",
       "      <th>V22</th>\n",
       "      <th>V23</th>\n",
       "      <th>V24</th>\n",
       "      <th>V25</th>\n",
       "      <th>V26</th>\n",
       "      <th>V27</th>\n",
       "      <th>V28</th>\n",
       "      <th>Amount</th>\n",
       "      <th>Class</th>\n",
       "    </tr>\n",
       "  </thead>\n",
       "  <tbody>\n",
       "    <tr>\n",
       "      <th>0</th>\n",
       "      <td>92469.0</td>\n",
       "      <td>0.038009</td>\n",
       "      <td>0.990823</td>\n",
       "      <td>0.292928</td>\n",
       "      <td>0.495378</td>\n",
       "      <td>1.303906</td>\n",
       "      <td>-0.874951</td>\n",
       "      <td>1.940270</td>\n",
       "      <td>-1.130083</td>\n",
       "      <td>1.613408</td>\n",
       "      <td>...</td>\n",
       "      <td>-0.149807</td>\n",
       "      <td>0.312096</td>\n",
       "      <td>-0.346760</td>\n",
       "      <td>-0.107028</td>\n",
       "      <td>0.026742</td>\n",
       "      <td>-0.722286</td>\n",
       "      <td>-0.869391</td>\n",
       "      <td>-0.637298</td>\n",
       "      <td>23.21</td>\n",
       "      <td>0</td>\n",
       "    </tr>\n",
       "    <tr>\n",
       "      <th>1</th>\n",
       "      <td>78365.0</td>\n",
       "      <td>1.108033</td>\n",
       "      <td>0.262369</td>\n",
       "      <td>-0.062800</td>\n",
       "      <td>1.246383</td>\n",
       "      <td>-0.205795</td>\n",
       "      <td>-1.355922</td>\n",
       "      <td>0.652852</td>\n",
       "      <td>-0.390785</td>\n",
       "      <td>-0.295612</td>\n",
       "      <td>...</td>\n",
       "      <td>0.069066</td>\n",
       "      <td>0.079030</td>\n",
       "      <td>-0.170357</td>\n",
       "      <td>0.733909</td>\n",
       "      <td>0.778175</td>\n",
       "      <td>-0.324390</td>\n",
       "      <td>-0.022396</td>\n",
       "      <td>0.027211</td>\n",
       "      <td>77.12</td>\n",
       "      <td>0</td>\n",
       "    </tr>\n",
       "    <tr>\n",
       "      <th>2</th>\n",
       "      <td>81841.0</td>\n",
       "      <td>-1.052514</td>\n",
       "      <td>0.056349</td>\n",
       "      <td>1.173187</td>\n",
       "      <td>-1.981609</td>\n",
       "      <td>-0.459709</td>\n",
       "      <td>-0.809827</td>\n",
       "      <td>-0.325010</td>\n",
       "      <td>0.506184</td>\n",
       "      <td>-1.593326</td>\n",
       "      <td>...</td>\n",
       "      <td>-0.215689</td>\n",
       "      <td>-0.537223</td>\n",
       "      <td>-0.164861</td>\n",
       "      <td>0.010463</td>\n",
       "      <td>-0.091185</td>\n",
       "      <td>0.898929</td>\n",
       "      <td>-0.130409</td>\n",
       "      <td>-0.047713</td>\n",
       "      <td>0.95</td>\n",
       "      <td>0</td>\n",
       "    </tr>\n",
       "    <tr>\n",
       "      <th>3</th>\n",
       "      <td>107510.0</td>\n",
       "      <td>1.940991</td>\n",
       "      <td>-0.106712</td>\n",
       "      <td>-0.061042</td>\n",
       "      <td>0.444285</td>\n",
       "      <td>-0.513541</td>\n",
       "      <td>-0.491934</td>\n",
       "      <td>-0.536963</td>\n",
       "      <td>-0.122404</td>\n",
       "      <td>2.141252</td>\n",
       "      <td>...</td>\n",
       "      <td>-0.192176</td>\n",
       "      <td>-0.151036</td>\n",
       "      <td>0.343072</td>\n",
       "      <td>-0.006027</td>\n",
       "      <td>-0.390002</td>\n",
       "      <td>-0.993095</td>\n",
       "      <td>0.036535</td>\n",
       "      <td>-0.038600</td>\n",
       "      <td>7.30</td>\n",
       "      <td>0</td>\n",
       "    </tr>\n",
       "    <tr>\n",
       "      <th>4</th>\n",
       "      <td>75814.0</td>\n",
       "      <td>1.256399</td>\n",
       "      <td>0.402563</td>\n",
       "      <td>0.319918</td>\n",
       "      <td>0.687153</td>\n",
       "      <td>-0.312050</td>\n",
       "      <td>-1.057312</td>\n",
       "      <td>0.132652</td>\n",
       "      <td>-0.242107</td>\n",
       "      <td>-0.069354</td>\n",
       "      <td>...</td>\n",
       "      <td>-0.279744</td>\n",
       "      <td>-0.774919</td>\n",
       "      <td>0.121134</td>\n",
       "      <td>0.363790</td>\n",
       "      <td>0.238751</td>\n",
       "      <td>0.092129</td>\n",
       "      <td>-0.018714</td>\n",
       "      <td>0.032303</td>\n",
       "      <td>1.98</td>\n",
       "      <td>0</td>\n",
       "    </tr>\n",
       "  </tbody>\n",
       "</table>\n",
       "<p>5 rows × 31 columns</p>\n",
       "</div>"
      ],
      "text/plain": [
       "       Time        V1        V2        V3        V4        V5        V6  \\\n",
       "0   92469.0  0.038009  0.990823  0.292928  0.495378  1.303906 -0.874951   \n",
       "1   78365.0  1.108033  0.262369 -0.062800  1.246383 -0.205795 -1.355922   \n",
       "2   81841.0 -1.052514  0.056349  1.173187 -1.981609 -0.459709 -0.809827   \n",
       "3  107510.0  1.940991 -0.106712 -0.061042  0.444285 -0.513541 -0.491934   \n",
       "4   75814.0  1.256399  0.402563  0.319918  0.687153 -0.312050 -1.057312   \n",
       "\n",
       "         V7        V8        V9  ...       V21       V22       V23       V24  \\\n",
       "0  1.940270 -1.130083  1.613408  ... -0.149807  0.312096 -0.346760 -0.107028   \n",
       "1  0.652852 -0.390785 -0.295612  ...  0.069066  0.079030 -0.170357  0.733909   \n",
       "2 -0.325010  0.506184 -1.593326  ... -0.215689 -0.537223 -0.164861  0.010463   \n",
       "3 -0.536963 -0.122404  2.141252  ... -0.192176 -0.151036  0.343072 -0.006027   \n",
       "4  0.132652 -0.242107 -0.069354  ... -0.279744 -0.774919  0.121134  0.363790   \n",
       "\n",
       "        V25       V26       V27       V28  Amount  Class  \n",
       "0  0.026742 -0.722286 -0.869391 -0.637298   23.21      0  \n",
       "1  0.778175 -0.324390 -0.022396  0.027211   77.12      0  \n",
       "2 -0.091185  0.898929 -0.130409 -0.047713    0.95      0  \n",
       "3 -0.390002 -0.993095  0.036535 -0.038600    7.30      0  \n",
       "4  0.238751  0.092129 -0.018714  0.032303    1.98      0  \n",
       "\n",
       "[5 rows x 31 columns]"
      ]
     },
     "execution_count": 38,
     "metadata": {},
     "output_type": "execute_result"
    }
   ],
   "source": [
    "#importing data and shuffling the data\n",
    "df = pd.read_csv('creditcard.csv', low_memory=False)\n",
    "df = df.sample(frac=1).reset_index(drop=True)\n",
    "df.head()"
   ]
  },
  {
   "cell_type": "code",
   "execution_count": 39,
   "metadata": {},
   "outputs": [
    {
     "name": "stdout",
     "output_type": "stream",
     "text": [
      "We have 492 fraud data points and 284315 nonfraudulent data points.\n"
     ]
    }
   ],
   "source": [
    "#seperating the different classes in a data set\n",
    "frauds = df.loc[df['Class'] == 1]\n",
    "non_frauds = df.loc[df['Class'] == 0]\n",
    "print(\"We have\", len(frauds), \"fraud data points and\", len(non_frauds), \"nonfraudulent data points.\")"
   ]
  },
  {
   "cell_type": "code",
   "execution_count": 44,
   "metadata": {},
   "outputs": [
    {
     "data": {
      "image/png": "[encoded data removed]",
      "text/plain": [
       "<Figure size 432x288 with 1 Axes>"
      ]
     },
     "metadata": {},
     "output_type": "display_data"
    }
   ],
   "source": [
    "# Scatter plot of both classes\n",
    "ax = frauds.plot.scatter(x='Amount', y='Class', color='Orange', label='Fraud')\n",
    "non_frauds.plot.scatter(x='Amount', y='Class', color='Blue', label='Normal', ax=ax)\n",
    "plt.show()"
   ]
  },
  {
   "cell_type": "code",
   "execution_count": 12,
   "metadata": {},
   "outputs": [
    {
     "name": "stdout",
     "output_type": "stream",
     "text": [
      "[[ 1.54635000e+05  1.63859551e+00 -7.37438292e-01 ... -5.54685944e-02\n",
      "  -2.03408661e-02  2.20270000e+02]\n",
      " [ 5.84450000e+04  1.41887519e+00 -5.08627122e-01 ...  4.98581236e-03\n",
      "   1.88471583e-02  1.50000000e+01]\n",
      " [ 1.23505000e+05  1.82257008e+00 -5.49534393e-01 ...  5.86083190e-02\n",
      "  -3.10035134e-02  4.50000000e+01]\n",
      " ...\n",
      " [ 6.90360000e+04 -5.50956668e-01  1.17601017e+00 ...  3.53921467e-01\n",
      "   1.31721376e-01  9.99000000e+00]\n",
      " [ 9.40370000e+04  2.14998409e+00 -2.16133919e-01 ... -6.57933455e-02\n",
      "  -8.65034039e-02  1.20000000e-01]\n",
      " [ 1.31019000e+05  2.12532158e+00 -1.75136275e+00 ... -1.21858613e-03\n",
      "  -3.72958765e-02  9.50000000e+01]]\n",
      "[0 0 0 ... 0 0 0]\n",
      "[[ 1.18903000e+05  2.02446656e+00 -1.83458733e+00 ... -3.50993532e-03\n",
      "  -2.56131225e-02  1.47650000e+02]\n",
      " [ 1.18409000e+05  1.52261675e+00 -8.80767062e-01 ...  1.09998588e-02\n",
      "   8.37167619e-03  2.31200000e+02]\n",
      " [ 7.21990000e+04  1.04643259e+00 -3.61293513e-01 ... -5.19898756e-02\n",
      "   1.41576670e-02  6.99800000e+01]\n",
      " ...\n",
      " [ 5.72630000e+04  1.29696898e+00  6.42961527e-02 ... -8.13029359e-02\n",
      "  -2.45022295e-03  2.30000000e+01]\n",
      " [ 5.54000000e+04  1.13620382e+00  2.83647050e-01 ...  5.84111646e-02\n",
      "   3.72769372e-02  9.99000000e+00]\n",
      " [ 1.43887000e+05  1.87788347e+00 -4.36380865e-01 ... -1.22335934e-01\n",
      "  -7.66844015e-02  9.90000000e+01]]\n",
      "[0 0 0 ... 0 0 0]\n",
      "[[ 5.88330000e+04 -1.53728095e+00  3.72594206e-01 ...  1.10642380e-01\n",
      "   1.72018570e-01  8.94000000e+00]\n",
      " [ 1.42592000e+05 -1.41993442e+00 -2.60922184e+00 ...  7.34633436e-02\n",
      "   1.93434005e-01  1.96700000e+01]\n",
      " [ 1.19004000e+05  1.12764224e-01  7.56682004e-01 ... -9.62022106e-02\n",
      "   6.93400699e-02  2.59900000e+01]\n",
      " ...\n",
      " [ 7.67230000e+04 -1.70880818e+00  7.77698286e-01 ... -7.54060381e-01\n",
      "  -4.63178295e-01  6.99000000e+01]\n",
      " [ 8.79430000e+04  1.94909942e+00  5.99738306e-01 ... -3.32483268e-02\n",
      "  -5.21955673e-02  1.00000000e+00]\n",
      " [ 6.70460000e+04 -3.87647070e-01  1.40929036e+00 ...  4.55206379e-01\n",
      "  -4.58874509e-02  2.29000000e+01]]\n",
      "[0 0 0 ... 0 0 0]\n"
     ]
    }
   ],
   "source": [
    "#splitting x and y\n",
    "x = df[:][:]\n",
    "x.pop(\"Class\")\n",
    "x1 = x.values\n",
    "print(x1)\n",
    "y = df[\"Class\"]\n",
    "y1 = y.values\n",
    "print(y1)\n",
    "#spliting train and test data\n",
    "from sklearn.model_selection import train_test_split\n",
    "xtrain, xtest, ytrain, ytest = train_test_split(x1, y1, test_size = 0.4, random_state = 0)\n",
    "print(xtrain)\n",
    "print(ytrain)\n",
    "print(xtest)\n",
    "print(ytest)\n"
   ]
  },
  {
   "cell_type": "code",
   "execution_count": 45,
   "metadata": {},
   "outputs": [
    {
     "data": {
      "text/plain": [
       "RandomForestClassifier(bootstrap=True, class_weight=None, criterion='gini',\n",
       "                       max_depth=None, max_features='auto', max_leaf_nodes=None,\n",
       "                       min_impurity_decrease=0.0, min_impurity_split=None,\n",
       "                       min_samples_leaf=1, min_samples_split=2,\n",
       "                       min_weight_fraction_leaf=0.0, n_estimators=10,\n",
       "                       n_jobs=None, oob_score=False, random_state=None,\n",
       "                       verbose=0, warm_start=False)"
      ]
     },
     "execution_count": 45,
     "metadata": {},
     "output_type": "execute_result"
    }
   ],
   "source": [
    "#importing random forest classifier\n",
    "from sklearn.ensemble import RandomForestClassifier\n",
    "obj = RandomForestClassifier(n_estimators=10)\n",
    "obj.fit(xtrain,ytrain)"
   ]
  },
  {
   "cell_type": "code",
   "execution_count": 46,
   "metadata": {},
   "outputs": [
    {
     "name": "stdout",
     "output_type": "stream",
     "text": [
      "              precision    recall  f1-score   support\n",
      "\n",
      "           0       1.00      1.00      1.00    170609\n",
      "           1       1.00      0.95      0.97       275\n",
      "\n",
      "    accuracy                           1.00    170884\n",
      "   macro avg       1.00      0.97      0.99    170884\n",
      "weighted avg       1.00      1.00      1.00    170884\n",
      "\n"
     ]
    }
   ],
   "source": [
    "#training accuracy\n",
    "ypredict = obj.predict(xtrain)\n",
    "from sklearn.metrics import classification_report\n",
    "report1 = classification_report(ytrain, ypredict)\n",
    "print(report1)"
   ]
  },
  {
   "cell_type": "code",
   "execution_count": 47,
   "metadata": {},
   "outputs": [],
   "source": []
  },
  {
   "cell_type": "code",
   "execution_count": 49,
   "metadata": {},
   "outputs": [
    {
     "name": "stdout",
     "output_type": "stream",
     "text": [
      "              precision    recall  f1-score   support\n",
      "\n",
      "           0       1.00      1.00      1.00    113706\n",
      "           1       0.95      0.71      0.81       217\n",
      "\n",
      "    accuracy                           1.00    113923\n",
      "   macro avg       0.98      0.85      0.91    113923\n",
      "weighted avg       1.00      1.00      1.00    113923\n",
      "\n"
     ]
    }
   ],
   "source": [
    "#validation accuracy\n",
    "ypred = obj.predict(xtest)\n",
    "report2 = classification_report(ytest, ypred)\n",
    "print(report2)"
   ]
  }
 ],
 "metadata": {
  "kernelspec": {
   "display_name": "Python 3",
   "language": "python",
   "name": "python3"
  },
  "language_info": {
   "codemirror_mode": {
    "name": "ipython",
    "version": 3
   },
   "file_extension": ".py",
   "mimetype": "text/x-python",
   "name": "python",
   "nbconvert_exporter": "python",
   "pygments_lexer": "ipython3",
   "version": "3.7.3"
  }
 },
 "nbformat": 4,
 "nbformat_minor": 2
}
